{
 "cells": [
  {
   "cell_type": "markdown",
   "metadata": {},
   "source": [
    "#### Team Leader: Yashodip More, Electrical Engineering, RC Patel Institute of Technology, Shirpur, Maharashtra – yashodipmore2004@gmail.com\n",
    "#### Team Member: S.M. Sakthivel, AI & Data Science, Achariya College of Engineering Technology, Puducherry – s.m.sakthivelofficial@gmail.com\n",
    "#### Team Member: Komal Kumavat, Electrical Engineering, RC Patel Institute of Technology, Shirpur, Maharashtra – komalkumavat025@gmail.com"
   ]
  },
  {
   "cell_type": "markdown",
   "metadata": {},
   "source": [
    "# Load Labels and Prepare Dataset"
   ]
  },
  {
   "cell_type": "code",
   "execution_count": 1,
   "metadata": {
    "execution": {
     "iopub.execute_input": "2025-05-23T09:15:27.411759Z",
     "iopub.status.busy": "2025-05-23T09:15:27.411444Z",
     "iopub.status.idle": "2025-05-23T09:15:43.382497Z",
     "shell.execute_reply": "2025-05-23T09:15:43.381892Z",
     "shell.execute_reply.started": "2025-05-23T09:15:27.411738Z"
    }
   },
   "outputs": [],
   "source": [
    "import pandas as pd\n",
    "import os\n",
    "from sklearn.model_selection import train_test_split\n",
    "from torchvision import transforms\n",
    "from PIL import Image\n",
    "import torch\n",
    "from torch.utils.data import Dataset, DataLoader\n",
    "\n",
    "# Paths\n",
    "train_dir = '/kaggle/input/soil-2-data/Soil Classification 2/train'\n",
    "test_dir = '/kaggle/input/soil-2-data/Soil Classification 2/test'\n",
    "label_file = '/kaggle/input/soil-2-data/Soil Classification 2/train_labels.csv'\n",
    "\n",
    "# Load labels\n",
    "df = pd.read_csv(label_file)\n",
    "\n",
    "# Split into train/val\n",
    "train_df, val_df = train_test_split(df, test_size=0.2, stratify=df['label'], random_state=42)\n",
    "\n",
    "# Transforms\n",
    "transform = transforms.Compose([\n",
    "    transforms.Resize((224, 224)),\n",
    "    transforms.ToTensor(),\n",
    "    transforms.Normalize(mean=[0.485, 0.456, 0.406],  # ImageNet stats\n",
    "                         std=[0.229, 0.224, 0.225])\n",
    "])\n",
    "\n",
    "# Dataset class\n",
    "class SoilDataset(Dataset):\n",
    "    def __init__(self, dataframe, img_dir, transform=None):\n",
    "        self.dataframe = dataframe\n",
    "        self.img_dir = img_dir\n",
    "        self.transform = transform\n",
    "\n",
    "    def __len__(self):\n",
    "        return len(self.dataframe)\n",
    "\n",
    "    def __getitem__(self, idx):\n",
    "        img_name = self.dataframe.iloc[idx]['image_id']\n",
    "        label = int(self.dataframe.iloc[idx]['label'])\n",
    "        img_path = os.path.join(self.img_dir, img_name)\n",
    "        image = Image.open(img_path).convert(\"RGB\")\n",
    "        if self.transform:\n",
    "            image = self.transform(image)\n",
    "        return image, label\n",
    "\n",
    "# Loaders\n",
    "train_dataset = SoilDataset(train_df, train_dir, transform)\n",
    "val_dataset = SoilDataset(val_df, train_dir, transform)\n",
    "\n",
    "train_loader = DataLoader(train_dataset, batch_size=32, shuffle=True)\n",
    "val_loader = DataLoader(val_dataset, batch_size=32, shuffle=False)\n"
   ]
  },
  {
   "cell_type": "markdown",
   "metadata": {},
   "source": [
    "# Model Architecture and Training"
   ]
  },
  {
   "cell_type": "code",
   "execution_count": 2,
   "metadata": {
    "execution": {
     "iopub.execute_input": "2025-05-23T09:16:19.563693Z",
     "iopub.status.busy": "2025-05-23T09:16:19.563193Z",
     "iopub.status.idle": "2025-05-23T09:16:20.702890Z",
     "shell.execute_reply": "2025-05-23T09:16:20.702101Z",
     "shell.execute_reply.started": "2025-05-23T09:16:19.563669Z"
    }
   },
   "outputs": [
    {
     "name": "stdout",
     "output_type": "stream",
     "text": [
      "Using device: cuda\n"
     ]
    },
    {
     "name": "stderr",
     "output_type": "stream",
     "text": [
      "/usr/local/lib/python3.11/dist-packages/torchvision/models/_utils.py:208: UserWarning: The parameter 'pretrained' is deprecated since 0.13 and may be removed in the future, please use 'weights' instead.\n",
      "  warnings.warn(\n",
      "/usr/local/lib/python3.11/dist-packages/torchvision/models/_utils.py:223: UserWarning: Arguments other than a weight enum or `None` for 'weights' are deprecated since 0.13 and may be removed in the future. The current behavior is equivalent to passing `weights=ResNet18_Weights.IMAGENET1K_V1`. You can also use `weights=ResNet18_Weights.DEFAULT` to get the most up-to-date weights.\n",
      "  warnings.warn(msg)\n",
      "Downloading: \"https://download.pytorch.org/models/resnet18-f37072fd.pth\" to /root/.cache/torch/hub/checkpoints/resnet18-f37072fd.pth\n",
      "100%|██████████| 44.7M/44.7M [00:00<00:00, 144MB/s] \n"
     ]
    }
   ],
   "source": [
    "import torch\n",
    "import torch.nn as nn\n",
    "import torch.optim as optim\n",
    "from torchvision import models\n",
    "from sklearn.metrics import f1_score\n",
    "\n",
    "# Check for GPU\n",
    "device = torch.device('cuda' if torch.cuda.is_available() else 'cpu')\n",
    "print(f'Using device: {device}')\n",
    "\n",
    "# Load pretrained ResNet18\n",
    "model = models.resnet18(pretrained=True)\n",
    "\n",
    "# Modify the final layer to output a single probability\n",
    "model.fc = nn.Sequential(\n",
    "    nn.Linear(model.fc.in_features, 1),\n",
    "    nn.Sigmoid()\n",
    ")\n",
    "\n",
    "model = model.to(device)\n",
    "\n",
    "# Loss and optimizer\n",
    "criterion = nn.BCELoss()\n",
    "optimizer = optim.Adam(model.parameters(), lr=1e-4)\n"
   ]
  },
  {
   "cell_type": "markdown",
   "metadata": {},
   "source": [
    "#  Training & Evaluation Loop"
   ]
  },
  {
   "cell_type": "code",
   "execution_count": 3,
   "metadata": {
    "execution": {
     "iopub.execute_input": "2025-05-23T09:16:40.205014Z",
     "iopub.status.busy": "2025-05-23T09:16:40.204747Z",
     "iopub.status.idle": "2025-05-23T09:19:48.143571Z",
     "shell.execute_reply": "2025-05-23T09:19:48.142777Z",
     "shell.execute_reply.started": "2025-05-23T09:16:40.204994Z"
    }
   },
   "outputs": [
    {
     "name": "stdout",
     "output_type": "stream",
     "text": [
      "Epoch 1/10, Loss: 7.4676, Val F1: 0.9820\n",
      "Epoch 2/10, Loss: 5.2175, Val F1: 0.9799\n",
      "Epoch 3/10, Loss: 4.1162, Val F1: 0.9758\n",
      "Epoch 4/10, Loss: 4.3309, Val F1: 0.9737\n",
      "Epoch 5/10, Loss: 4.1723, Val F1: 0.9799\n",
      "Epoch 6/10, Loss: 2.6939, Val F1: 0.9758\n",
      "Epoch 7/10, Loss: 2.3075, Val F1: 0.9654\n",
      "Epoch 8/10, Loss: 2.3578, Val F1: 0.9696\n",
      "Epoch 9/10, Loss: 2.1439, Val F1: 0.9696\n",
      "Epoch 10/10, Loss: 2.1301, Val F1: 0.9696\n"
     ]
    }
   ],
   "source": [
    "def train_model(model, train_loader, val_loader, epochs=10):\n",
    "    for epoch in range(epochs):\n",
    "        model.train()\n",
    "        train_loss = 0\n",
    "        for images, labels in train_loader:\n",
    "            images = images.to(device)\n",
    "            labels = labels.float().unsqueeze(1).to(device)\n",
    "\n",
    "            optimizer.zero_grad()\n",
    "            outputs = model(images)\n",
    "            loss = criterion(outputs, labels)\n",
    "            loss.backward()\n",
    "            optimizer.step()\n",
    "\n",
    "            train_loss += loss.item()\n",
    "\n",
    "        # Evaluation\n",
    "        model.eval()\n",
    "        all_preds = []\n",
    "        all_targets = []\n",
    "        with torch.no_grad():\n",
    "            for images, labels in val_loader:\n",
    "                images = images.to(device)\n",
    "                labels = labels.to(device)\n",
    "                outputs = model(images)\n",
    "                preds = (outputs > 0.5).int().cpu().numpy()\n",
    "                all_preds.extend(preds.flatten())\n",
    "                all_targets.extend(labels.cpu().numpy())\n",
    "\n",
    "        f1 = f1_score(all_targets, all_preds)\n",
    "        print(f\"Epoch {epoch+1}/{epochs}, Loss: {train_loss:.4f}, Val F1: {f1:.4f}\")\n",
    "\n",
    "train_model(model, train_loader, val_loader, epochs=10)\n"
   ]
  },
  {
   "cell_type": "markdown",
   "metadata": {},
   "source": [
    "# Test Prediction + Submission File"
   ]
  },
  {
   "cell_type": "code",
   "execution_count": 6,
   "metadata": {
    "execution": {
     "iopub.execute_input": "2025-05-23T09:30:52.160277Z",
     "iopub.status.busy": "2025-05-23T09:30:52.159562Z",
     "iopub.status.idle": "2025-05-23T09:30:57.149705Z",
     "shell.execute_reply": "2025-05-23T09:30:57.148883Z",
     "shell.execute_reply.started": "2025-05-23T09:30:52.160248Z"
    }
   },
   "outputs": [
    {
     "name": "stdout",
     "output_type": "stream",
     "text": [
      "Submission file saved as 'submission.csv'\n"
     ]
    }
   ],
   "source": [
    "# Load test image IDs\n",
    "test_ids = pd.read_csv('/kaggle/input/soil-2-data/Soil Classification 2/test_ids.csv')\n",
    "\n",
    "# Define test dataset class\n",
    "class TestSoilDataset(Dataset):\n",
    "    def __init__(self, dataframe, img_dir, transform=None):\n",
    "        self.dataframe = dataframe\n",
    "        self.img_dir = img_dir\n",
    "        self.transform = transform\n",
    "\n",
    "    def __len__(self):\n",
    "        return len(self.dataframe)\n",
    "\n",
    "    def __getitem__(self, idx):\n",
    "        img_name = self.dataframe.iloc[idx]['image_id']\n",
    "        img_path = os.path.join(test_dir, img_name)\n",
    "        image = Image.open(img_path).convert(\"RGB\")\n",
    "        if self.transform:\n",
    "            image = self.transform(image)\n",
    "        return image, img_name\n",
    "\n",
    "# Create dataset and loader\n",
    "test_dataset = TestSoilDataset(test_ids, test_dir, transform)\n",
    "test_loader = DataLoader(test_dataset, batch_size=32, shuffle=False)\n",
    "\n",
    "# Run predictions\n",
    "model.eval()\n",
    "predictions = []\n",
    "\n",
    "with torch.no_grad():\n",
    "    for images, img_names in test_loader:\n",
    "        images = images.to(device)\n",
    "        outputs = model(images)\n",
    "        preds = (outputs > 0.5).int().cpu().numpy().flatten()\n",
    "        for name, pred in zip(img_names, preds):\n",
    "            predictions.append({'image_id': name, 'label': pred})\n",
    "\n",
    "# Save to CSV\n",
    "submission_df = pd.DataFrame(predictions)\n",
    "submission_df.to_csv('submission.csv', index=False)\n",
    "print(\"Submission file saved as 'submission.csv'\")\n"
   ]
  }
 ],
 "metadata": {
  "kaggle": {
   "accelerator": "nvidiaTeslaT4",
   "dataSources": [
    {
     "databundleVersionId": 12412856,
     "sourceId": 102966,
     "sourceType": "competition"
    },
    {
     "datasetId": 7492837,
     "sourceId": 11918623,
     "sourceType": "datasetVersion"
    }
   ],
   "dockerImageVersionId": 31042,
   "isGpuEnabled": true,
   "isInternetEnabled": true,
   "language": "python",
   "sourceType": "notebook"
  },
  "kernelspec": {
   "display_name": "Python 3 (ipykernel)",
   "language": "python",
   "name": "python3"
  },
  "language_info": {
   "codemirror_mode": {
    "name": "ipython",
    "version": 3
   },
   "file_extension": ".py",
   "mimetype": "text/x-python",
   "name": "python",
   "nbconvert_exporter": "python",
   "pygments_lexer": "ipython3",
   "version": "3.12.7"
  }
 },
 "nbformat": 4,
 "nbformat_minor": 4
}
